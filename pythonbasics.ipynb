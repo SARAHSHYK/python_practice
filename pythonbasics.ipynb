{
 "cells": [
  {
   "cell_type": "code",
   "execution_count": 1,
   "id": "f23f8572-1261-4820-a9f4-bb1313c5db47",
   "metadata": {},
   "outputs": [
    {
     "data": {
      "text/plain": [
       "2"
      ]
     },
     "execution_count": 1,
     "metadata": {},
     "output_type": "execute_result"
    }
   ],
   "source": [
    "1+1"
   ]
  },
  {
   "cell_type": "code",
   "execution_count": 2,
   "id": "89650ec9-9b32-4ce1-89fe-7b73bc10ad47",
   "metadata": {},
   "outputs": [
    {
     "data": {
      "text/plain": [
       "2"
      ]
     },
     "execution_count": 2,
     "metadata": {},
     "output_type": "execute_result"
    }
   ],
   "source": [
    "1+1"
   ]
  },
  {
   "cell_type": "code",
   "execution_count": 3,
   "id": "2d821528-5fdd-4884-99af-a03cebe524fe",
   "metadata": {},
   "outputs": [],
   "source": [
    "a=10"
   ]
  },
  {
   "cell_type": "code",
   "execution_count": 4,
   "id": "b8f91d05-4cc1-471b-a4eb-f242f2a51a4b",
   "metadata": {},
   "outputs": [
    {
     "data": {
      "text/plain": [
       "10"
      ]
     },
     "execution_count": 4,
     "metadata": {},
     "output_type": "execute_result"
    }
   ],
   "source": [
    "a"
   ]
  },
  {
   "cell_type": "code",
   "execution_count": 5,
   "id": "f09e547d-0792-4d9d-a95a-02cc021676d5",
   "metadata": {},
   "outputs": [
    {
     "data": {
      "text/plain": [
       "int"
      ]
     },
     "execution_count": 5,
     "metadata": {},
     "output_type": "execute_result"
    }
   ],
   "source": [
    "type(a)"
   ]
  },
  {
   "cell_type": "code",
   "execution_count": 6,
   "id": "dbbf9335-2e43-4764-8836-523fc34fc796",
   "metadata": {},
   "outputs": [],
   "source": [
    "b=2.9"
   ]
  },
  {
   "cell_type": "code",
   "execution_count": 7,
   "id": "dce4a53c-56d8-460c-af1a-ab6defb658f5",
   "metadata": {},
   "outputs": [
    {
     "data": {
      "text/plain": [
       "float"
      ]
     },
     "execution_count": 7,
     "metadata": {},
     "output_type": "execute_result"
    }
   ],
   "source": [
    "type(b)"
   ]
  },
  {
   "cell_type": "code",
   "execution_count": 8,
   "id": "43d4712b-e214-407f-92c1-f9ad354cc29c",
   "metadata": {},
   "outputs": [],
   "source": [
    "d='s'"
   ]
  },
  {
   "cell_type": "code",
   "execution_count": 9,
   "id": "2def91cb-2cc8-4c52-a7e6-6411e75a37fc",
   "metadata": {},
   "outputs": [
    {
     "data": {
      "text/plain": [
       "str"
      ]
     },
     "execution_count": 9,
     "metadata": {},
     "output_type": "execute_result"
    }
   ],
   "source": [
    "type(d)"
   ]
  },
  {
   "cell_type": "code",
   "execution_count": 10,
   "id": "00c57c13-ad75-4539-a507-68fa40040492",
   "metadata": {},
   "outputs": [],
   "source": [
    "s=\"sarah\""
   ]
  },
  {
   "cell_type": "code",
   "execution_count": 11,
   "id": "97abffef-440e-4959-a861-081f2b2a1c58",
   "metadata": {},
   "outputs": [
    {
     "data": {
      "text/plain": [
       "str"
      ]
     },
     "execution_count": 11,
     "metadata": {},
     "output_type": "execute_result"
    }
   ],
   "source": [
    "type(s)"
   ]
  },
  {
   "cell_type": "code",
   "execution_count": 12,
   "id": "6f690271-4b81-4dc4-990f-c4898129389b",
   "metadata": {},
   "outputs": [],
   "source": [
    "p='jgivrf'"
   ]
  },
  {
   "cell_type": "code",
   "execution_count": 13,
   "id": "4f496993-d73d-4777-b651-2326c7536c37",
   "metadata": {},
   "outputs": [
    {
     "data": {
      "text/plain": [
       "str"
      ]
     },
     "execution_count": 13,
     "metadata": {},
     "output_type": "execute_result"
    }
   ],
   "source": [
    "type(p)"
   ]
  },
  {
   "cell_type": "code",
   "execution_count": 14,
   "id": "218e97c8-42e1-46dd-89cb-603eed27d8e1",
   "metadata": {},
   "outputs": [],
   "source": [
    "t=True"
   ]
  },
  {
   "cell_type": "code",
   "execution_count": 15,
   "id": "16617c6f-86b6-4f32-8867-80c0474bf21c",
   "metadata": {},
   "outputs": [
    {
     "data": {
      "text/plain": [
       "bool"
      ]
     },
     "execution_count": 15,
     "metadata": {},
     "output_type": "execute_result"
    }
   ],
   "source": [
    "type(t)"
   ]
  },
  {
   "cell_type": "code",
   "execution_count": 16,
   "id": "875e6067-01f2-46c5-81b0-5ccfd3ff160a",
   "metadata": {},
   "outputs": [],
   "source": [
    "o=False"
   ]
  },
  {
   "cell_type": "code",
   "execution_count": 17,
   "id": "3910bdbc-5cbc-4208-a0e4-3d89f0bacad2",
   "metadata": {},
   "outputs": [
    {
     "data": {
      "text/plain": [
       "1"
      ]
     },
     "execution_count": 17,
     "metadata": {},
     "output_type": "execute_result"
    }
   ],
   "source": [
    "0+t"
   ]
  },
  {
   "cell_type": "code",
   "execution_count": 2,
   "id": "cbc3814c-fdbd-44cd-be2d-cbb4a4402898",
   "metadata": {},
   "outputs": [],
   "source": [
    "v=5+ 7j"
   ]
  },
  {
   "cell_type": "code",
   "execution_count": 3,
   "id": "49afe4c4-a140-4cb3-97d3-4b4243521bb4",
   "metadata": {},
   "outputs": [
    {
     "data": {
      "text/plain": [
       "complex"
      ]
     },
     "execution_count": 3,
     "metadata": {},
     "output_type": "execute_result"
    }
   ],
   "source": [
    "type(v)"
   ]
  },
  {
   "cell_type": "code",
   "execution_count": 4,
   "id": "dba1071b-5500-4e44-a20c-8791051229be",
   "metadata": {},
   "outputs": [
    {
     "data": {
      "text/plain": [
       "5.0"
      ]
     },
     "execution_count": 4,
     "metadata": {},
     "output_type": "execute_result"
    }
   ],
   "source": [
    "v.real"
   ]
  },
  {
   "cell_type": "code",
   "execution_count": 5,
   "id": "c0590d69-31d2-4c4b-b45c-ee005ba23643",
   "metadata": {},
   "outputs": [
    {
     "data": {
      "text/plain": [
       "7.0"
      ]
     },
     "execution_count": 5,
     "metadata": {},
     "output_type": "execute_result"
    }
   ],
   "source": [
    "v.imag"
   ]
  },
  {
   "cell_type": "code",
   "execution_count": 1,
   "id": "956fcbe2-7021-4e36-8da7-374069d1e458",
   "metadata": {},
   "outputs": [],
   "source": [
    "S=\"WWRONG\""
   ]
  },
  {
   "cell_type": "code",
   "execution_count": 2,
   "id": "a9d5cceb-d4bf-45c2-b57f-db5ddd1114b0",
   "metadata": {},
   "outputs": [
    {
     "data": {
      "text/plain": [
       "str"
      ]
     },
     "execution_count": 2,
     "metadata": {},
     "output_type": "execute_result"
    }
   ],
   "source": [
    "type(S)"
   ]
  },
  {
   "cell_type": "code",
   "execution_count": 3,
   "id": "d477a68d-8392-4907-89d1-0a538b591a15",
   "metadata": {},
   "outputs": [
    {
     "data": {
      "text/plain": [
       "'O'"
      ]
     },
     "execution_count": 3,
     "metadata": {},
     "output_type": "execute_result"
    }
   ],
   "source": [
    "S[3]"
   ]
  },
  {
   "cell_type": "code",
   "execution_count": 4,
   "id": "220b7585-15d6-4ade-9686-3ddb88dc5b59",
   "metadata": {},
   "outputs": [
    {
     "data": {
      "text/plain": [
       "'N'"
      ]
     },
     "execution_count": 4,
     "metadata": {},
     "output_type": "execute_result"
    }
   ],
   "source": [
    "S[-2]"
   ]
  },
  {
   "cell_type": "code",
   "execution_count": 5,
   "id": "ee55be5b-3ed1-40e3-825e-7fe6a200a5ef",
   "metadata": {},
   "outputs": [
    {
     "data": {
      "text/plain": [
       "'WWR'"
      ]
     },
     "execution_count": 5,
     "metadata": {},
     "output_type": "execute_result"
    }
   ],
   "source": [
    "S[0:3]"
   ]
  },
  {
   "cell_type": "code",
   "execution_count": 6,
   "id": "5af14c2d-ebe6-4331-a92c-dc1642e05e19",
   "metadata": {},
   "outputs": [
    {
     "data": {
      "text/plain": [
       "'WRN'"
      ]
     },
     "execution_count": 6,
     "metadata": {},
     "output_type": "execute_result"
    }
   ],
   "source": [
    "S[0:6:2]"
   ]
  },
  {
   "cell_type": "code",
   "execution_count": 7,
   "id": "ff3e4167-ed0c-4e54-bf58-2e72652a8ef6",
   "metadata": {},
   "outputs": [
    {
     "data": {
      "text/plain": [
       "'WRN'"
      ]
     },
     "execution_count": 7,
     "metadata": {},
     "output_type": "execute_result"
    }
   ],
   "source": [
    "S[0::2]"
   ]
  },
  {
   "cell_type": "code",
   "execution_count": 9,
   "id": "5e118764-453a-4ba1-9c81-dc22563994b1",
   "metadata": {},
   "outputs": [
    {
     "data": {
      "text/plain": [
       "'WRN'"
      ]
     },
     "execution_count": 9,
     "metadata": {},
     "output_type": "execute_result"
    }
   ],
   "source": [
    "S[::2]"
   ]
  },
  {
   "cell_type": "code",
   "execution_count": 10,
   "id": "94441007-3780-40a5-bb93-0b9ca5c8c1de",
   "metadata": {},
   "outputs": [
    {
     "data": {
      "text/plain": [
       "'GNORWW'"
      ]
     },
     "execution_count": 10,
     "metadata": {},
     "output_type": "execute_result"
    }
   ],
   "source": [
    "S[::-1]"
   ]
  },
  {
   "cell_type": "code",
   "execution_count": 11,
   "id": "71373bae-d64b-4a6e-8808-5a87593a25a0",
   "metadata": {},
   "outputs": [
    {
     "data": {
      "text/plain": [
       "''"
      ]
     },
     "execution_count": 11,
     "metadata": {},
     "output_type": "execute_result"
    }
   ],
   "source": [
    "S[6:0]"
   ]
  },
  {
   "cell_type": "code",
   "execution_count": 12,
   "id": "ebeb362b-27e1-4b3f-b60f-d750936f4199",
   "metadata": {},
   "outputs": [
    {
     "data": {
      "text/plain": [
       "'GNORW'"
      ]
     },
     "execution_count": 12,
     "metadata": {},
     "output_type": "execute_result"
    }
   ],
   "source": [
    "S[6:0:-1]"
   ]
  },
  {
   "cell_type": "code",
   "execution_count": 13,
   "id": "258feecc-eb74-4852-9293-51faacffb9b4",
   "metadata": {},
   "outputs": [
    {
     "data": {
      "text/plain": [
       "''"
      ]
     },
     "execution_count": 13,
     "metadata": {},
     "output_type": "execute_result"
    }
   ],
   "source": [
    "S[2:7:-1]"
   ]
  },
  {
   "cell_type": "code",
   "execution_count": 14,
   "id": "7bc3a75f-04a6-4e16-89c6-1a889361aef2",
   "metadata": {},
   "outputs": [
    {
     "data": {
      "text/plain": [
       "''"
      ]
     },
     "execution_count": 14,
     "metadata": {},
     "output_type": "execute_result"
    }
   ],
   "source": [
    "S[-2:-7:1]"
   ]
  },
  {
   "cell_type": "code",
   "execution_count": 15,
   "id": "d41be173-11fb-4a9f-849c-e6a002265be6",
   "metadata": {},
   "outputs": [
    {
     "data": {
      "text/plain": [
       "'NORWW'"
      ]
     },
     "execution_count": 15,
     "metadata": {},
     "output_type": "execute_result"
    }
   ],
   "source": [
    "S[-2:-7:-1]"
   ]
  },
  {
   "cell_type": "code",
   "execution_count": 17,
   "id": "682f42bc-fdb7-4f4e-9b9d-6f6ab8520094",
   "metadata": {},
   "outputs": [
    {
     "data": {
      "text/plain": [
       "'GNORWW'"
      ]
     },
     "execution_count": 17,
     "metadata": {},
     "output_type": "execute_result"
    }
   ],
   "source": [
    "S[-1::-1]"
   ]
  },
  {
   "cell_type": "code",
   "execution_count": 18,
   "id": "d2c09deb-ff86-4e27-84a5-eb6ed52db2ce",
   "metadata": {},
   "outputs": [
    {
     "data": {
      "text/plain": [
       "'GNORWW'"
      ]
     },
     "execution_count": 18,
     "metadata": {},
     "output_type": "execute_result"
    }
   ],
   "source": [
    "S[::-1]"
   ]
  },
  {
   "cell_type": "code",
   "execution_count": 19,
   "id": "bc36c734-e6c9-4368-9ae8-19d2bacdefc9",
   "metadata": {},
   "outputs": [
    {
     "data": {
      "text/plain": [
       "'WWRONG'"
      ]
     },
     "execution_count": 19,
     "metadata": {},
     "output_type": "execute_result"
    }
   ],
   "source": [
    "S[::1]"
   ]
  },
  {
   "cell_type": "code",
   "execution_count": 21,
   "id": "bcc95eea-2456-4411-8cf8-b081227dd95f",
   "metadata": {},
   "outputs": [
    {
     "data": {
      "text/plain": [
       "'WWRONG'"
      ]
     },
     "execution_count": 21,
     "metadata": {},
     "output_type": "execute_result"
    }
   ],
   "source": [
    "S[:90:1]"
   ]
  },
  {
   "cell_type": "code",
   "execution_count": 23,
   "id": "0d3cbc42-df3d-40ff-a927-3504ff3ddbfe",
   "metadata": {},
   "outputs": [
    {
     "data": {
      "text/plain": [
       "'GNORWW'"
      ]
     },
     "execution_count": 23,
     "metadata": {},
     "output_type": "execute_result"
    }
   ],
   "source": [
    "S[:-90:-1]"
   ]
  },
  {
   "cell_type": "code",
   "execution_count": 24,
   "id": "ac1cf707-e105-45cb-a9cb-28562ee3dc58",
   "metadata": {},
   "outputs": [
    {
     "ename": "IndexError",
     "evalue": "string index out of range",
     "output_type": "error",
     "traceback": [
      "\u001b[0;31m---------------------------------------------------------------------------\u001b[0m",
      "\u001b[0;31mIndexError\u001b[0m                                Traceback (most recent call last)",
      "Cell \u001b[0;32mIn[24], line 1\u001b[0m\n\u001b[0;32m----> 1\u001b[0m \u001b[43mS\u001b[49m\u001b[43m[\u001b[49m\u001b[38;5;241;43m90\u001b[39;49m\u001b[43m]\u001b[49m\n",
      "\u001b[0;31mIndexError\u001b[0m: string index out of range"
     ]
    }
   ],
   "source": [
    "S[90]"
   ]
  },
  {
   "cell_type": "code",
   "execution_count": 25,
   "id": "e2114527-a709-4f88-ba8d-7fea148c60c3",
   "metadata": {},
   "outputs": [],
   "source": [
    "a=\"sarah is a good girl\""
   ]
  },
  {
   "cell_type": "code",
   "execution_count": 26,
   "id": "f08723f3-21ee-4561-b198-003606e01011",
   "metadata": {},
   "outputs": [
    {
     "data": {
      "text/plain": [
       "20"
      ]
     },
     "execution_count": 26,
     "metadata": {},
     "output_type": "execute_result"
    }
   ],
   "source": [
    "len(a)"
   ]
  },
  {
   "cell_type": "code",
   "execution_count": 27,
   "id": "d9f26712-926d-47df-a8d2-76a183e451bd",
   "metadata": {},
   "outputs": [
    {
     "data": {
      "text/plain": [
       "12"
      ]
     },
     "execution_count": 27,
     "metadata": {},
     "output_type": "execute_result"
    }
   ],
   "source": [
    "a.find('o')"
   ]
  },
  {
   "cell_type": "code",
   "execution_count": 28,
   "id": "6fa68dbd-4e44-4d98-8b22-ee69b55b411f",
   "metadata": {},
   "outputs": [
    {
     "data": {
      "text/plain": [
       "6"
      ]
     },
     "execution_count": 28,
     "metadata": {},
     "output_type": "execute_result"
    }
   ],
   "source": [
    "a.find('is')"
   ]
  },
  {
   "cell_type": "code",
   "execution_count": 29,
   "id": "d4ec819d-4f62-4d04-ad64-f0f82a67cd4e",
   "metadata": {},
   "outputs": [
    {
     "data": {
      "text/plain": [
       "12"
      ]
     },
     "execution_count": 29,
     "metadata": {},
     "output_type": "execute_result"
    }
   ],
   "source": [
    "a.find(\"o\")"
   ]
  },
  {
   "cell_type": "code",
   "execution_count": 30,
   "id": "184103ad-0612-4749-a7d6-a349f5ab0c11",
   "metadata": {},
   "outputs": [
    {
     "data": {
      "text/plain": [
       "2"
      ]
     },
     "execution_count": 30,
     "metadata": {},
     "output_type": "execute_result"
    }
   ],
   "source": [
    "a.count(\"s\")"
   ]
  },
  {
   "cell_type": "code",
   "execution_count": 32,
   "id": "7e504c82-1fce-4b34-8a0f-715fc56a4e19",
   "metadata": {},
   "outputs": [
    {
     "data": {
      "text/plain": [
       "0"
      ]
     },
     "execution_count": 32,
     "metadata": {},
     "output_type": "execute_result"
    }
   ],
   "source": [
    "a.count(\"p\")"
   ]
  },
  {
   "cell_type": "code",
   "execution_count": 33,
   "id": "35a476e8-7428-458f-b382-42dbe6c6f908",
   "metadata": {},
   "outputs": [
    {
     "data": {
      "text/plain": [
       "'SARAH IS A GOOD GIRL'"
      ]
     },
     "execution_count": 33,
     "metadata": {},
     "output_type": "execute_result"
    }
   ],
   "source": [
    "a.upper()"
   ]
  },
  {
   "cell_type": "code",
   "execution_count": 35,
   "id": "1f43168a-3b43-436e-97e6-7c982afc401c",
   "metadata": {},
   "outputs": [
    {
     "data": {
      "text/plain": [
       "'sarah is a good girl'"
      ]
     },
     "execution_count": 35,
     "metadata": {},
     "output_type": "execute_result"
    }
   ],
   "source": [
    "a.lower()"
   ]
  },
  {
   "cell_type": "code",
   "execution_count": 36,
   "id": "062c0ee7-9bb6-4a0a-abff-7a41c0c5702c",
   "metadata": {},
   "outputs": [
    {
     "data": {
      "text/plain": [
       "'Sarah Is A Good Girl'"
      ]
     },
     "execution_count": 36,
     "metadata": {},
     "output_type": "execute_result"
    }
   ],
   "source": [
    "a.title()"
   ]
  },
  {
   "cell_type": "code",
   "execution_count": 37,
   "id": "a7d27a0e-7c71-4c94-9871-1383b6e86e6a",
   "metadata": {},
   "outputs": [
    {
     "data": {
      "text/plain": [
       "'Sarah is a good girl'"
      ]
     },
     "execution_count": 37,
     "metadata": {},
     "output_type": "execute_result"
    }
   ],
   "source": [
    "a.capitalize()"
   ]
  },
  {
   "cell_type": "code",
   "execution_count": 38,
   "id": "c7571db4-0b7a-4ad3-ba97-bf88c18d2003",
   "metadata": {},
   "outputs": [
    {
     "data": {
      "text/plain": [
       "'sarah is a good girl'"
      ]
     },
     "execution_count": 38,
     "metadata": {},
     "output_type": "execute_result"
    }
   ],
   "source": [
    "a"
   ]
  },
  {
   "cell_type": "code",
   "execution_count": 39,
   "id": "0c6f7be9-dea6-41ab-85e8-4a000e165058",
   "metadata": {},
   "outputs": [
    {
     "data": {
      "text/plain": [
       "'sarah is a good girl'"
      ]
     },
     "execution_count": 39,
     "metadata": {},
     "output_type": "execute_result"
    }
   ],
   "source": [
    "a"
   ]
  },
  {
   "cell_type": "code",
   "execution_count": 40,
   "id": "5d3cca87-4863-4c59-a934-65d477a66d39",
   "metadata": {},
   "outputs": [
    {
     "data": {
      "text/plain": [
       "'sarah is a good girlsarah is a good girlsarah is a good girl'"
      ]
     },
     "execution_count": 40,
     "metadata": {},
     "output_type": "execute_result"
    }
   ],
   "source": [
    "a*3"
   ]
  },
  {
   "cell_type": "code",
   "execution_count": 41,
   "id": "02bee9e6-216a-4bc0-998f-3d4cc857c104",
   "metadata": {},
   "outputs": [
    {
     "ename": "SyntaxError",
     "evalue": "unterminated string literal (detected at line 1) (2325919229.py, line 1)",
     "output_type": "error",
     "traceback": [
      "\u001b[0;36m  Cell \u001b[0;32mIn[41], line 1\u001b[0;36m\u001b[0m\n\u001b[0;31m    'don't argue'\u001b[0m\n\u001b[0m                ^\u001b[0m\n\u001b[0;31mSyntaxError\u001b[0m\u001b[0;31m:\u001b[0m unterminated string literal (detected at line 1)\n"
     ]
    }
   ],
   "source": [
    "'don't argue'"
   ]
  },
  {
   "cell_type": "code",
   "execution_count": 42,
   "id": "c3720d38-1dfa-4e54-8e05-e4e17a6884fe",
   "metadata": {},
   "outputs": [
    {
     "data": {
      "text/plain": [
       "\"don't argue\""
      ]
     },
     "execution_count": 42,
     "metadata": {},
     "output_type": "execute_result"
    }
   ],
   "source": [
    "\"don't argue\""
   ]
  },
  {
   "cell_type": "code",
   "execution_count": 43,
   "id": "13969cc8-ad96-48ca-84f6-3444cbd9acd5",
   "metadata": {},
   "outputs": [
    {
     "data": {
      "text/plain": [
       "'don\"t argue'"
      ]
     },
     "execution_count": 43,
     "metadata": {},
     "output_type": "execute_result"
    }
   ],
   "source": [
    "'don\"t argue'"
   ]
  },
  {
   "cell_type": "code",
   "execution_count": null,
   "id": "19a83879-d1e0-4c04-b26a-48a69a96e613",
   "metadata": {},
   "outputs": [],
   "source": [
    "#LIST"
   ]
  },
  {
   "cell_type": "code",
   "execution_count": 2,
   "id": "678366c2-c7e6-4e4c-9abb-d1b5454e0c00",
   "metadata": {},
   "outputs": [],
   "source": [
    "l=[ 22,\" sarah\" , 0.77, True , 5+6j ]"
   ]
  },
  {
   "cell_type": "code",
   "execution_count": 3,
   "id": "3e676f4e-a417-423b-a312-9bb741185ae9",
   "metadata": {},
   "outputs": [
    {
     "data": {
      "text/plain": [
       "[22, ' sarah', 0.77, True, (5+6j)]"
      ]
     },
     "execution_count": 3,
     "metadata": {},
     "output_type": "execute_result"
    }
   ],
   "source": [
    "l"
   ]
  },
  {
   "cell_type": "code",
   "execution_count": 4,
   "id": "f8c20d28-9baf-4875-b70a-1b45b567ec63",
   "metadata": {},
   "outputs": [
    {
     "data": {
      "text/plain": [
       "0.77"
      ]
     },
     "execution_count": 4,
     "metadata": {},
     "output_type": "execute_result"
    }
   ],
   "source": [
    "l[2]"
   ]
  },
  {
   "cell_type": "code",
   "execution_count": 5,
   "id": "11c3e862-b7d9-4413-b520-d677874ba071",
   "metadata": {},
   "outputs": [
    {
     "data": {
      "text/plain": [
       "True"
      ]
     },
     "execution_count": 5,
     "metadata": {},
     "output_type": "execute_result"
    }
   ],
   "source": [
    "l[3]"
   ]
  },
  {
   "cell_type": "code",
   "execution_count": 6,
   "id": "45ed1a97-eb5b-4d8b-ae91-a4400acf23fa",
   "metadata": {},
   "outputs": [
    {
     "data": {
      "text/plain": [
       "[22, ' sarah', 0.77]"
      ]
     },
     "execution_count": 6,
     "metadata": {},
     "output_type": "execute_result"
    }
   ],
   "source": [
    "l[0:3]"
   ]
  },
  {
   "cell_type": "code",
   "execution_count": 7,
   "id": "bb0e24f5-3f26-496c-a44d-5c01f8756de6",
   "metadata": {},
   "outputs": [
    {
     "data": {
      "text/plain": [
       "(5+6j)"
      ]
     },
     "execution_count": 7,
     "metadata": {},
     "output_type": "execute_result"
    }
   ],
   "source": [
    "l[-1]"
   ]
  },
  {
   "cell_type": "code",
   "execution_count": 8,
   "id": "c8e77246-75e6-4cbe-b5d5-1ecaa6e2efb0",
   "metadata": {},
   "outputs": [
    {
     "data": {
      "text/plain": [
       "[(5+6j), True, 0.77, ' sarah', 22]"
      ]
     },
     "execution_count": 8,
     "metadata": {},
     "output_type": "execute_result"
    }
   ],
   "source": [
    "l[::-1]"
   ]
  },
  {
   "cell_type": "code",
   "execution_count": 9,
   "id": "1fdb1b3f-e928-4c76-bab7-9bea900f604e",
   "metadata": {},
   "outputs": [
    {
     "data": {
      "text/plain": [
       "[22, 0.77, (5+6j)]"
      ]
     },
     "execution_count": 9,
     "metadata": {},
     "output_type": "execute_result"
    }
   ],
   "source": [
    "l[::2]"
   ]
  },
  {
   "cell_type": "code",
   "execution_count": 10,
   "id": "21888549-faf5-4c8a-8c9d-d9a002f4523b",
   "metadata": {},
   "outputs": [
    {
     "data": {
      "text/plain": [
       "[22, ' sarah', 0.77, True, (5+6j)]"
      ]
     },
     "execution_count": 10,
     "metadata": {},
     "output_type": "execute_result"
    }
   ],
   "source": [
    "l"
   ]
  },
  {
   "cell_type": "code",
   "execution_count": 11,
   "id": "e3cd5019-5916-4294-b176-9d16a16af268",
   "metadata": {},
   "outputs": [],
   "source": [
    "s=\"sarah\""
   ]
  },
  {
   "cell_type": "code",
   "execution_count": 12,
   "id": "22d82311-ef8d-4c1a-b90f-bfb904fe00f9",
   "metadata": {},
   "outputs": [
    {
     "data": {
      "text/plain": [
       "['s', 'a', 'r', 'a', 'h']"
      ]
     },
     "execution_count": 12,
     "metadata": {},
     "output_type": "execute_result"
    }
   ],
   "source": [
    "list(s)"
   ]
  },
  {
   "cell_type": "code",
   "execution_count": 13,
   "id": "b82667c8-dfc1-4720-bba3-eb6a38ea8c2b",
   "metadata": {},
   "outputs": [
    {
     "data": {
      "text/plain": [
       "['s', 'a', 'r', 'a', 'h', 22, ' sarah', 0.77, True, (5+6j)]"
      ]
     },
     "execution_count": 13,
     "metadata": {},
     "output_type": "execute_result"
    }
   ],
   "source": [
    "list(s)+l"
   ]
  },
  {
   "cell_type": "code",
   "execution_count": 15,
   "id": "e11c503e-657a-43a6-8867-fa40a97d5d4c",
   "metadata": {},
   "outputs": [
    {
     "data": {
      "text/plain": [
       "str"
      ]
     },
     "execution_count": 15,
     "metadata": {},
     "output_type": "execute_result"
    }
   ],
   "source": [
    "type(l[1])"
   ]
  },
  {
   "cell_type": "code",
   "execution_count": 18,
   "id": "6d1efb61-ca61-47c0-a405-e164a001f3b3",
   "metadata": {},
   "outputs": [
    {
     "data": {
      "text/plain": [
       "' sa'"
      ]
     },
     "execution_count": 18,
     "metadata": {},
     "output_type": "execute_result"
    }
   ],
   "source": [
    "l[1][0:3]"
   ]
  },
  {
   "cell_type": "code",
   "execution_count": 19,
   "id": "6e206725-79ae-44fb-999b-6914b4f3f33f",
   "metadata": {},
   "outputs": [
    {
     "data": {
      "text/plain": [
       "[22,\n",
       " ' sarah',\n",
       " 0.77,\n",
       " True,\n",
       " (5+6j),\n",
       " 22,\n",
       " ' sarah',\n",
       " 0.77,\n",
       " True,\n",
       " (5+6j),\n",
       " 22,\n",
       " ' sarah',\n",
       " 0.77,\n",
       " True,\n",
       " (5+6j)]"
      ]
     },
     "execution_count": 19,
     "metadata": {},
     "output_type": "execute_result"
    }
   ],
   "source": [
    "l*3"
   ]
  },
  {
   "cell_type": "code",
   "execution_count": 20,
   "id": "bae3c38a-2a3e-42fc-b16a-3cb76b23d7f5",
   "metadata": {},
   "outputs": [
    {
     "data": {
      "text/plain": [
       "5"
      ]
     },
     "execution_count": 20,
     "metadata": {},
     "output_type": "execute_result"
    }
   ],
   "source": [
    "len(l)"
   ]
  },
  {
   "cell_type": "code",
   "execution_count": 21,
   "id": "20caf6a0-6469-4e01-8d6b-10d2abc0f6e6",
   "metadata": {},
   "outputs": [],
   "source": [
    "l.append(5)"
   ]
  },
  {
   "cell_type": "code",
   "execution_count": 22,
   "id": "fc54193e-e88a-4de3-83c0-bd88d09f3897",
   "metadata": {},
   "outputs": [
    {
     "data": {
      "text/plain": [
       "[22, ' sarah', 0.77, True, (5+6j), 5]"
      ]
     },
     "execution_count": 22,
     "metadata": {},
     "output_type": "execute_result"
    }
   ],
   "source": [
    "l"
   ]
  },
  {
   "cell_type": "code",
   "execution_count": 23,
   "id": "c7af9bb0-cd9e-4978-94c0-c253608b0287",
   "metadata": {},
   "outputs": [],
   "source": [
    "l.append(s)"
   ]
  },
  {
   "cell_type": "code",
   "execution_count": 24,
   "id": "3c23a1c4-584d-47ed-872b-23348767a76e",
   "metadata": {},
   "outputs": [
    {
     "data": {
      "text/plain": [
       "[22, ' sarah', 0.77, True, (5+6j), 5, 'sarah']"
      ]
     },
     "execution_count": 24,
     "metadata": {},
     "output_type": "execute_result"
    }
   ],
   "source": [
    "l"
   ]
  },
  {
   "cell_type": "code",
   "execution_count": 26,
   "id": "964f6dfb-7f60-445a-9cff-e379c69112e9",
   "metadata": {},
   "outputs": [],
   "source": [
    "l.extend(\"sarahhh\")"
   ]
  },
  {
   "cell_type": "code",
   "execution_count": 27,
   "id": "a41d865d-ddca-4f49-858e-e44583052f82",
   "metadata": {},
   "outputs": [
    {
     "data": {
      "text/plain": [
       "[22,\n",
       " ' sarah',\n",
       " 0.77,\n",
       " True,\n",
       " (5+6j),\n",
       " 5,\n",
       " 'sarah',\n",
       " 's',\n",
       " 'a',\n",
       " 'r',\n",
       " 'a',\n",
       " 'h',\n",
       " 'h',\n",
       " 'h']"
      ]
     },
     "execution_count": 27,
     "metadata": {},
     "output_type": "execute_result"
    }
   ],
   "source": [
    "l"
   ]
  },
  {
   "cell_type": "code",
   "execution_count": 28,
   "id": "f12e0185-b1bd-4148-ad73-b54eef0978d4",
   "metadata": {},
   "outputs": [],
   "source": [
    "l.extend(\"s\")"
   ]
  },
  {
   "cell_type": "code",
   "execution_count": 29,
   "id": "b61d4721-624f-4e59-895c-89f42d086a1c",
   "metadata": {},
   "outputs": [
    {
     "data": {
      "text/plain": [
       "[22,\n",
       " ' sarah',\n",
       " 0.77,\n",
       " True,\n",
       " (5+6j),\n",
       " 5,\n",
       " 'sarah',\n",
       " 's',\n",
       " 'a',\n",
       " 'r',\n",
       " 'a',\n",
       " 'h',\n",
       " 'h',\n",
       " 'h',\n",
       " 's']"
      ]
     },
     "execution_count": 29,
     "metadata": {},
     "output_type": "execute_result"
    }
   ],
   "source": [
    "l"
   ]
  },
  {
   "cell_type": "code",
   "execution_count": 30,
   "id": "e50a9e3b-40e5-4a9c-820b-87f496afa47d",
   "metadata": {},
   "outputs": [
    {
     "ename": "TypeError",
     "evalue": "'int' object is not iterable",
     "output_type": "error",
     "traceback": [
      "\u001b[0;31m---------------------------------------------------------------------------\u001b[0m",
      "\u001b[0;31mTypeError\u001b[0m                                 Traceback (most recent call last)",
      "Cell \u001b[0;32mIn[30], line 1\u001b[0m\n\u001b[0;32m----> 1\u001b[0m \u001b[43ml\u001b[49m\u001b[38;5;241;43m.\u001b[39;49m\u001b[43mextend\u001b[49m\u001b[43m(\u001b[49m\u001b[38;5;241;43m776\u001b[39;49m\u001b[43m)\u001b[49m\n",
      "\u001b[0;31mTypeError\u001b[0m: 'int' object is not iterable"
     ]
    }
   ],
   "source": [
    "l.extend(776)"
   ]
  },
  {
   "cell_type": "code",
   "execution_count": 31,
   "id": "66478ce4-c04b-49c5-9d21-3ad1c5657446",
   "metadata": {},
   "outputs": [],
   "source": [
    "l.extend([2,3,4,5])"
   ]
  },
  {
   "cell_type": "code",
   "execution_count": 32,
   "id": "6f706c55-1231-4e42-9eb0-5541198555ef",
   "metadata": {},
   "outputs": [
    {
     "data": {
      "text/plain": [
       "[22,\n",
       " ' sarah',\n",
       " 0.77,\n",
       " True,\n",
       " (5+6j),\n",
       " 5,\n",
       " 'sarah',\n",
       " 's',\n",
       " 'a',\n",
       " 'r',\n",
       " 'a',\n",
       " 'h',\n",
       " 'h',\n",
       " 'h',\n",
       " 's',\n",
       " 2,\n",
       " 3,\n",
       " 4,\n",
       " 5]"
      ]
     },
     "execution_count": 32,
     "metadata": {},
     "output_type": "execute_result"
    }
   ],
   "source": [
    "l"
   ]
  },
  {
   "cell_type": "code",
   "execution_count": 33,
   "id": "9aa3d65e-fa87-4b2c-b008-ecee5c7d990d",
   "metadata": {},
   "outputs": [],
   "source": [
    "l.insert(1,[s])"
   ]
  },
  {
   "cell_type": "code",
   "execution_count": 34,
   "id": "b485bddf-3814-402a-942d-642a28eca96f",
   "metadata": {},
   "outputs": [
    {
     "data": {
      "text/plain": [
       "[22,\n",
       " ['sarah'],\n",
       " ' sarah',\n",
       " 0.77,\n",
       " True,\n",
       " (5+6j),\n",
       " 5,\n",
       " 'sarah',\n",
       " 's',\n",
       " 'a',\n",
       " 'r',\n",
       " 'a',\n",
       " 'h',\n",
       " 'h',\n",
       " 'h',\n",
       " 's',\n",
       " 2,\n",
       " 3,\n",
       " 4,\n",
       " 5]"
      ]
     },
     "execution_count": 34,
     "metadata": {},
     "output_type": "execute_result"
    }
   ],
   "source": [
    "l"
   ]
  },
  {
   "cell_type": "code",
   "execution_count": 36,
   "id": "87988935-3b74-42b0-b32c-21f96319960a",
   "metadata": {},
   "outputs": [],
   "source": [
    "l.insert(-1,45)"
   ]
  },
  {
   "cell_type": "code",
   "execution_count": 37,
   "id": "7d662056-6754-40f9-84d6-6bea9e82af6c",
   "metadata": {},
   "outputs": [
    {
     "data": {
      "text/plain": [
       "[22,\n",
       " ['sarah'],\n",
       " ' sarah',\n",
       " 0.77,\n",
       " True,\n",
       " (5+6j),\n",
       " 5,\n",
       " 'sarah',\n",
       " 's',\n",
       " 'a',\n",
       " 'r',\n",
       " 'a',\n",
       " 'h',\n",
       " 'h',\n",
       " 'h',\n",
       " 's',\n",
       " 2,\n",
       " 3,\n",
       " 4,\n",
       " 45,\n",
       " 5]"
      ]
     },
     "execution_count": 37,
     "metadata": {},
     "output_type": "execute_result"
    }
   ],
   "source": [
    "l"
   ]
  },
  {
   "cell_type": "code",
   "execution_count": 39,
   "id": "889c6408-ee43-40df-b3d6-50c604d5bf64",
   "metadata": {},
   "outputs": [
    {
     "data": {
      "text/plain": [
       "5"
      ]
     },
     "execution_count": 39,
     "metadata": {},
     "output_type": "execute_result"
    }
   ],
   "source": [
    "l.pop()"
   ]
  },
  {
   "cell_type": "code",
   "execution_count": 40,
   "id": "0318c53e-580c-4558-a07e-f8a412f9770d",
   "metadata": {},
   "outputs": [
    {
     "data": {
      "text/plain": [
       "[22,\n",
       " ['sarah'],\n",
       " ' sarah',\n",
       " 0.77,\n",
       " True,\n",
       " (5+6j),\n",
       " 5,\n",
       " 'sarah',\n",
       " 's',\n",
       " 'a',\n",
       " 'r',\n",
       " 'a',\n",
       " 'h',\n",
       " 'h',\n",
       " 'h',\n",
       " 's',\n",
       " 2,\n",
       " 3,\n",
       " 4,\n",
       " 45]"
      ]
     },
     "execution_count": 40,
     "metadata": {},
     "output_type": "execute_result"
    }
   ],
   "source": [
    "l"
   ]
  },
  {
   "cell_type": "code",
   "execution_count": 41,
   "id": "6dc5cdfa-0fb6-4544-99db-a380802cf916",
   "metadata": {},
   "outputs": [
    {
     "data": {
      "text/plain": [
       "0.77"
      ]
     },
     "execution_count": 41,
     "metadata": {},
     "output_type": "execute_result"
    }
   ],
   "source": [
    "l.pop(3)"
   ]
  },
  {
   "cell_type": "code",
   "execution_count": 42,
   "id": "15d2da7d-88cf-4b74-b097-833a7a731349",
   "metadata": {},
   "outputs": [
    {
     "data": {
      "text/plain": [
       "[22,\n",
       " ['sarah'],\n",
       " ' sarah',\n",
       " True,\n",
       " (5+6j),\n",
       " 5,\n",
       " 'sarah',\n",
       " 's',\n",
       " 'a',\n",
       " 'r',\n",
       " 'a',\n",
       " 'h',\n",
       " 'h',\n",
       " 'h',\n",
       " 's',\n",
       " 2,\n",
       " 3,\n",
       " 4,\n",
       " 45]"
      ]
     },
     "execution_count": 42,
     "metadata": {},
     "output_type": "execute_result"
    }
   ],
   "source": [
    "l"
   ]
  },
  {
   "cell_type": "code",
   "execution_count": 44,
   "id": "a80cb7a7-52ec-4823-adf1-02347a50c919",
   "metadata": {},
   "outputs": [],
   "source": [
    "l.remove(45)"
   ]
  },
  {
   "cell_type": "code",
   "execution_count": 45,
   "id": "a1aff77f-1a69-46b1-bdba-03c1021ce9a0",
   "metadata": {},
   "outputs": [
    {
     "data": {
      "text/plain": [
       "[22,\n",
       " ['sarah'],\n",
       " ' sarah',\n",
       " True,\n",
       " (5+6j),\n",
       " 5,\n",
       " 'sarah',\n",
       " 's',\n",
       " 'a',\n",
       " 'r',\n",
       " 'a',\n",
       " 'h',\n",
       " 'h',\n",
       " 'h',\n",
       " 's',\n",
       " 2,\n",
       " 3,\n",
       " 4]"
      ]
     },
     "execution_count": 45,
     "metadata": {},
     "output_type": "execute_result"
    }
   ],
   "source": [
    "l"
   ]
  },
  {
   "cell_type": "code",
   "execution_count": 46,
   "id": "670ad86a-2103-4bc1-983f-cc203bdfacf2",
   "metadata": {},
   "outputs": [],
   "source": [
    "l.remove(2)"
   ]
  },
  {
   "cell_type": "code",
   "execution_count": 47,
   "id": "98ef6d43-6743-4f59-9320-aa5e10273b49",
   "metadata": {},
   "outputs": [
    {
     "data": {
      "text/plain": [
       "[22,\n",
       " ['sarah'],\n",
       " ' sarah',\n",
       " True,\n",
       " (5+6j),\n",
       " 5,\n",
       " 'sarah',\n",
       " 's',\n",
       " 'a',\n",
       " 'r',\n",
       " 'a',\n",
       " 'h',\n",
       " 'h',\n",
       " 'h',\n",
       " 's',\n",
       " 3,\n",
       " 4]"
      ]
     },
     "execution_count": 47,
     "metadata": {},
     "output_type": "execute_result"
    }
   ],
   "source": [
    "l"
   ]
  },
  {
   "cell_type": "code",
   "execution_count": 49,
   "id": "ce47caa4-71b6-4e76-80b7-299fa57ea19e",
   "metadata": {},
   "outputs": [],
   "source": [
    "l.remove(s)"
   ]
  },
  {
   "cell_type": "code",
   "execution_count": 50,
   "id": "678806e1-77f3-40a1-b0cd-737831e45634",
   "metadata": {},
   "outputs": [
    {
     "data": {
      "text/plain": [
       "[22,\n",
       " ['sarah'],\n",
       " ' sarah',\n",
       " True,\n",
       " (5+6j),\n",
       " 5,\n",
       " 's',\n",
       " 'a',\n",
       " 'r',\n",
       " 'a',\n",
       " 'h',\n",
       " 'h',\n",
       " 'h',\n",
       " 's',\n",
       " 3,\n",
       " 4]"
      ]
     },
     "execution_count": 50,
     "metadata": {},
     "output_type": "execute_result"
    }
   ],
   "source": [
    "l"
   ]
  },
  {
   "cell_type": "code",
   "execution_count": 51,
   "id": "5dd22031-0390-4b3b-8634-9cc8a4df6e8e",
   "metadata": {},
   "outputs": [
    {
     "ename": "AttributeError",
     "evalue": "'str' object has no attribute 'remove'",
     "output_type": "error",
     "traceback": [
      "\u001b[0;31m---------------------------------------------------------------------------\u001b[0m",
      "\u001b[0;31mAttributeError\u001b[0m                            Traceback (most recent call last)",
      "Cell \u001b[0;32mIn[51], line 1\u001b[0m\n\u001b[0;32m----> 1\u001b[0m \u001b[43ml\u001b[49m\u001b[43m[\u001b[49m\u001b[38;5;241;43m2\u001b[39;49m\u001b[43m]\u001b[49m\u001b[38;5;241;43m.\u001b[39;49m\u001b[43mremove\u001b[49m(s)\n",
      "\u001b[0;31mAttributeError\u001b[0m: 'str' object has no attribute 'remove'"
     ]
    }
   ],
   "source": [
    "l[2].remove(s)"
   ]
  },
  {
   "cell_type": "code",
   "execution_count": 54,
   "id": "fd95ff01-b71c-439c-969e-5892e3866ac6",
   "metadata": {},
   "outputs": [],
   "source": [
    "l.remove(22)"
   ]
  },
  {
   "cell_type": "code",
   "execution_count": 55,
   "id": "a07a42cf-a822-4a20-89a2-c597b1e4c31c",
   "metadata": {},
   "outputs": [
    {
     "data": {
      "text/plain": [
       "[['sarah'],\n",
       " ' sarah',\n",
       " True,\n",
       " (5+6j),\n",
       " 5,\n",
       " 's',\n",
       " 'a',\n",
       " 'r',\n",
       " 'a',\n",
       " 'h',\n",
       " 'h',\n",
       " 'h',\n",
       " 's',\n",
       " 3,\n",
       " 4]"
      ]
     },
     "execution_count": 55,
     "metadata": {},
     "output_type": "execute_result"
    }
   ],
   "source": [
    "l"
   ]
  },
  {
   "cell_type": "code",
   "execution_count": 56,
   "id": "0c457c45-323c-4cc5-a311-816e56942d51",
   "metadata": {},
   "outputs": [],
   "source": [
    "l.reverse()"
   ]
  },
  {
   "cell_type": "code",
   "execution_count": 57,
   "id": "d3c1d8aa-02f0-401b-9d7b-ebce6b897a67",
   "metadata": {},
   "outputs": [
    {
     "data": {
      "text/plain": [
       "[4,\n",
       " 3,\n",
       " 's',\n",
       " 'h',\n",
       " 'h',\n",
       " 'h',\n",
       " 'a',\n",
       " 'r',\n",
       " 'a',\n",
       " 's',\n",
       " 5,\n",
       " (5+6j),\n",
       " True,\n",
       " ' sarah',\n",
       " ['sarah']]"
      ]
     },
     "execution_count": 57,
     "metadata": {},
     "output_type": "execute_result"
    }
   ],
   "source": [
    "l"
   ]
  },
  {
   "cell_type": "code",
   "execution_count": 58,
   "id": "593c02b2-b163-4a45-a6a3-e0c84f2aeb45",
   "metadata": {},
   "outputs": [],
   "source": [
    "l2=[3,7,75,34,12,9,0]"
   ]
  },
  {
   "cell_type": "code",
   "execution_count": 59,
   "id": "accb32d8-193f-4854-8dfb-1108a19141be",
   "metadata": {},
   "outputs": [],
   "source": [
    "l2.sort()"
   ]
  },
  {
   "cell_type": "code",
   "execution_count": 60,
   "id": "fa1eecdb-7726-4d99-801b-4b4377ef4c4c",
   "metadata": {},
   "outputs": [
    {
     "data": {
      "text/plain": [
       "[0, 3, 7, 9, 12, 34, 75]"
      ]
     },
     "execution_count": 60,
     "metadata": {},
     "output_type": "execute_result"
    }
   ],
   "source": [
    "l2"
   ]
  },
  {
   "cell_type": "code",
   "execution_count": 61,
   "id": "222d005b-f19b-439b-9e8b-3f170c8bb64c",
   "metadata": {},
   "outputs": [],
   "source": [
    "l3=[\"sarah\",\"sggg\",\"aman\"]"
   ]
  },
  {
   "cell_type": "code",
   "execution_count": 62,
   "id": "f4e17bd9-722f-48e5-8b59-f8e83b0dfe01",
   "metadata": {},
   "outputs": [],
   "source": [
    "l3.sort()"
   ]
  },
  {
   "cell_type": "code",
   "execution_count": 63,
   "id": "f5db48d8-d45f-45c4-9786-06a7616343cd",
   "metadata": {},
   "outputs": [
    {
     "data": {
      "text/plain": [
       "['aman', 'sarah', 'sggg']"
      ]
     },
     "execution_count": 63,
     "metadata": {},
     "output_type": "execute_result"
    }
   ],
   "source": [
    "l3"
   ]
  },
  {
   "cell_type": "code",
   "execution_count": 64,
   "id": "cb47ba70-0d51-499e-b512-78d8cca3e260",
   "metadata": {},
   "outputs": [],
   "source": [
    "l3.sort(reverse=True)"
   ]
  },
  {
   "cell_type": "code",
   "execution_count": 65,
   "id": "cf17d062-4477-4e7f-baee-a0c8ed75fb0b",
   "metadata": {},
   "outputs": [
    {
     "data": {
      "text/plain": [
       "['sggg', 'sarah', 'aman']"
      ]
     },
     "execution_count": 65,
     "metadata": {},
     "output_type": "execute_result"
    }
   ],
   "source": [
    "l3"
   ]
  },
  {
   "cell_type": "code",
   "execution_count": 66,
   "id": "e364e657-91b0-4988-8d87-435e4ee70b32",
   "metadata": {},
   "outputs": [
    {
     "data": {
      "text/plain": [
       "1"
      ]
     },
     "execution_count": 66,
     "metadata": {},
     "output_type": "execute_result"
    }
   ],
   "source": [
    "l3.index(\"sarah\")"
   ]
  },
  {
   "cell_type": "code",
   "execution_count": 68,
   "id": "f80dc21b-01ed-4429-9648-4447f7844b1f",
   "metadata": {},
   "outputs": [
    {
     "data": {
      "text/plain": [
       "1"
      ]
     },
     "execution_count": 68,
     "metadata": {},
     "output_type": "execute_result"
    }
   ],
   "source": [
    "l3.count(\"aman\")"
   ]
  },
  {
   "cell_type": "code",
   "execution_count": 1,
   "id": "a34ec4f6-11b9-4764-a8bc-6e01a3802400",
   "metadata": {},
   "outputs": [],
   "source": [
    "d=\"sarah\""
   ]
  },
  {
   "cell_type": "code",
   "execution_count": 2,
   "id": "e16f0c72-ef85-4e56-9b42-6adb77ad8932",
   "metadata": {},
   "outputs": [],
   "source": [
    "l5=[3,4,57,7]"
   ]
  },
  {
   "cell_type": "code",
   "execution_count": 3,
   "id": "384f17be-14ab-4411-af91-f827f9ae286d",
   "metadata": {},
   "outputs": [
    {
     "ename": "TypeError",
     "evalue": "'str' object does not support item assignment",
     "output_type": "error",
     "traceback": [
      "\u001b[0;31m---------------------------------------------------------------------------\u001b[0m",
      "\u001b[0;31mTypeError\u001b[0m                                 Traceback (most recent call last)",
      "Cell \u001b[0;32mIn[3], line 1\u001b[0m\n\u001b[0;32m----> 1\u001b[0m \u001b[43md\u001b[49m\u001b[43m[\u001b[49m\u001b[38;5;241;43m0\u001b[39;49m\u001b[43m]\u001b[49m\u001b[38;5;241m=\u001b[39m\u001b[38;5;241m20\u001b[39m\n",
      "\u001b[0;31mTypeError\u001b[0m: 'str' object does not support item assignment"
     ]
    }
   ],
   "source": [
    "d[0]=20"
   ]
  },
  {
   "cell_type": "code",
   "execution_count": 4,
   "id": "93f3c74d-104b-4342-94b1-343a926e76b6",
   "metadata": {},
   "outputs": [],
   "source": [
    "l5[0]=90"
   ]
  },
  {
   "cell_type": "code",
   "execution_count": 5,
   "id": "b0c8b03c-bf36-4548-a397-7715da903e4a",
   "metadata": {},
   "outputs": [
    {
     "data": {
      "text/plain": [
       "[90, 4, 57, 7]"
      ]
     },
     "execution_count": 5,
     "metadata": {},
     "output_type": "execute_result"
    }
   ],
   "source": [
    "l5"
   ]
  },
  {
   "cell_type": "code",
   "execution_count": 6,
   "id": "e25793a6-670b-485c-a367-48669ac35b1f",
   "metadata": {},
   "outputs": [
    {
     "data": {
      "text/plain": [
       "'darah'"
      ]
     },
     "execution_count": 6,
     "metadata": {},
     "output_type": "execute_result"
    }
   ],
   "source": [
    "d.replace('s','d')"
   ]
  },
  {
   "cell_type": "code",
   "execution_count": 7,
   "id": "ae137eb1-6959-4d21-a619-d8da04f846f4",
   "metadata": {},
   "outputs": [
    {
     "data": {
      "text/plain": [
       "'sarah'"
      ]
     },
     "execution_count": 7,
     "metadata": {},
     "output_type": "execute_result"
    }
   ],
   "source": [
    "d"
   ]
  },
  {
   "cell_type": "code",
   "execution_count": 8,
   "id": "acaccfef-3f17-48c2-8cd2-0313f8f80738",
   "metadata": {},
   "outputs": [],
   "source": [
    "#tuples"
   ]
  },
  {
   "cell_type": "code",
   "execution_count": 9,
   "id": "c086db96-87b9-4e9d-81cb-8338c3bf61a8",
   "metadata": {},
   "outputs": [],
   "source": [
    "t=(7,99.89,False,\"sarah\",45+6j,[5,7,9])"
   ]
  },
  {
   "cell_type": "code",
   "execution_count": 10,
   "id": "ef5b8cc4-182c-4a99-9da6-74912d8160ae",
   "metadata": {},
   "outputs": [
    {
     "data": {
      "text/plain": [
       "tuple"
      ]
     },
     "execution_count": 10,
     "metadata": {},
     "output_type": "execute_result"
    }
   ],
   "source": [
    "type(t)"
   ]
  },
  {
   "cell_type": "code",
   "execution_count": 11,
   "id": "b49ade80-fbac-4a4b-ba69-46a29cbe9d4b",
   "metadata": {},
   "outputs": [
    {
     "data": {
      "text/plain": [
       "6"
      ]
     },
     "execution_count": 11,
     "metadata": {},
     "output_type": "execute_result"
    }
   ],
   "source": [
    "len(t)"
   ]
  },
  {
   "cell_type": "code",
   "execution_count": 12,
   "id": "044aca01-4c45-4c2d-a24f-62317dae3705",
   "metadata": {},
   "outputs": [
    {
     "data": {
      "text/plain": [
       "7"
      ]
     },
     "execution_count": 12,
     "metadata": {},
     "output_type": "execute_result"
    }
   ],
   "source": [
    "t[0]"
   ]
  },
  {
   "cell_type": "code",
   "execution_count": 13,
   "id": "e9e59167-262c-479d-88d5-2480fa10ddcd",
   "metadata": {},
   "outputs": [
    {
     "data": {
      "text/plain": [
       "[5, 7, 9]"
      ]
     },
     "execution_count": 13,
     "metadata": {},
     "output_type": "execute_result"
    }
   ],
   "source": [
    "t[-1]"
   ]
  },
  {
   "cell_type": "code",
   "execution_count": 14,
   "id": "9e8fd3e1-ca6c-458d-b6d4-e44304904e2a",
   "metadata": {},
   "outputs": [
    {
     "data": {
      "text/plain": [
       "([5, 7, 9], (45+6j), 'sarah', False, 99.89, 7)"
      ]
     },
     "execution_count": 14,
     "metadata": {},
     "output_type": "execute_result"
    }
   ],
   "source": [
    "t[::-1]"
   ]
  },
  {
   "cell_type": "code",
   "execution_count": 15,
   "id": "9214a14f-d402-4204-abb0-e5c5dd5f4b53",
   "metadata": {},
   "outputs": [
    {
     "ename": "TypeError",
     "evalue": "'tuple' object does not support item assignment",
     "output_type": "error",
     "traceback": [
      "\u001b[0;31m---------------------------------------------------------------------------\u001b[0m",
      "\u001b[0;31mTypeError\u001b[0m                                 Traceback (most recent call last)",
      "Cell \u001b[0;32mIn[15], line 1\u001b[0m\n\u001b[0;32m----> 1\u001b[0m \u001b[43mt\u001b[49m\u001b[43m[\u001b[49m\u001b[38;5;241;43m0\u001b[39;49m\u001b[43m]\u001b[49m\u001b[38;5;241m=\u001b[39m\u001b[38;5;124m\"\u001b[39m\u001b[38;5;124msaa\u001b[39m\u001b[38;5;124m\"\u001b[39m\n",
      "\u001b[0;31mTypeError\u001b[0m: 'tuple' object does not support item assignment"
     ]
    }
   ],
   "source": [
    "t[0]=\"saa\""
   ]
  },
  {
   "cell_type": "code",
   "execution_count": 16,
   "id": "a8a3cb56-4d90-44a3-be8e-fdb0b28ceb7a",
   "metadata": {},
   "outputs": [
    {
     "data": {
      "text/plain": [
       "[90, 4, 57, 7]"
      ]
     },
     "execution_count": 16,
     "metadata": {},
     "output_type": "execute_result"
    }
   ],
   "source": [
    "l5"
   ]
  },
  {
   "cell_type": "code",
   "execution_count": 17,
   "id": "e9183a07-d669-4869-b798-f8e97c652367",
   "metadata": {},
   "outputs": [],
   "source": [
    "l5[0]=\"saa\""
   ]
  },
  {
   "cell_type": "code",
   "execution_count": 18,
   "id": "7e9916ab-15bd-48b3-9426-59cc8d56fdf8",
   "metadata": {},
   "outputs": [
    {
     "data": {
      "text/plain": [
       "['saa', 4, 57, 7]"
      ]
     },
     "execution_count": 18,
     "metadata": {},
     "output_type": "execute_result"
    }
   ],
   "source": [
    "l5"
   ]
  },
  {
   "cell_type": "code",
   "execution_count": 19,
   "id": "252866bf-1350-42a0-aa9b-f68d1f58b5ec",
   "metadata": {},
   "outputs": [
    {
     "data": {
      "text/plain": [
       "([5, 7, 9], (45+6j), 'sarah', False, 99.89, 7)"
      ]
     },
     "execution_count": 19,
     "metadata": {},
     "output_type": "execute_result"
    }
   ],
   "source": [
    "t[::-1]"
   ]
  },
  {
   "cell_type": "code",
   "execution_count": 23,
   "id": "45a6b13a-5761-49f8-8547-044899507a53",
   "metadata": {},
   "outputs": [
    {
     "data": {
      "text/plain": [
       "1"
      ]
     },
     "execution_count": 23,
     "metadata": {},
     "output_type": "execute_result"
    }
   ],
   "source": [
    "t.count('sarah')"
   ]
  },
  {
   "cell_type": "code",
   "execution_count": 24,
   "id": "215e0179-2a53-4d99-96f9-af4f0c3ab871",
   "metadata": {},
   "outputs": [],
   "source": [
    "s1={}"
   ]
  },
  {
   "cell_type": "code",
   "execution_count": 25,
   "id": "18928201-ab62-489d-a686-81c499957923",
   "metadata": {},
   "outputs": [
    {
     "data": {
      "text/plain": [
       "dict"
      ]
     },
     "execution_count": 25,
     "metadata": {},
     "output_type": "execute_result"
    }
   ],
   "source": [
    "type(s1)"
   ]
  },
  {
   "cell_type": "code",
   "execution_count": 26,
   "id": "a15795fb-0dae-43a3-b724-15df37e2063c",
   "metadata": {},
   "outputs": [],
   "source": [
    "s2={3,4,5,6,'sarah'}"
   ]
  },
  {
   "cell_type": "code",
   "execution_count": 27,
   "id": "9302d712-e652-4110-b957-0fb8d092f1b9",
   "metadata": {},
   "outputs": [
    {
     "data": {
      "text/plain": [
       "{3, 4, 5, 6, 'sarah'}"
      ]
     },
     "execution_count": 27,
     "metadata": {},
     "output_type": "execute_result"
    }
   ],
   "source": [
    "s2"
   ]
  },
  {
   "cell_type": "code",
   "execution_count": 28,
   "id": "34c84458-0d7a-46d2-8747-99088d0a963f",
   "metadata": {},
   "outputs": [
    {
     "data": {
      "text/plain": [
       "set"
      ]
     },
     "execution_count": 28,
     "metadata": {},
     "output_type": "execute_result"
    }
   ],
   "source": [
    "type(s2)"
   ]
  },
  {
   "cell_type": "code",
   "execution_count": 29,
   "id": "57a9fdee-eb08-4adc-a245-d062b33c0abd",
   "metadata": {},
   "outputs": [],
   "source": [
    "s3={2,2,3,3,3,7,7,8,8,8}"
   ]
  },
  {
   "cell_type": "code",
   "execution_count": 30,
   "id": "98493876-83ce-4847-9397-6a20f853f48c",
   "metadata": {},
   "outputs": [
    {
     "data": {
      "text/plain": [
       "{2, 3, 7, 8}"
      ]
     },
     "execution_count": 30,
     "metadata": {},
     "output_type": "execute_result"
    }
   ],
   "source": [
    "s3"
   ]
  },
  {
   "cell_type": "code",
   "execution_count": 31,
   "id": "56ce4ba6-13d5-4a7f-b7df-6b95b9ed4177",
   "metadata": {},
   "outputs": [
    {
     "data": {
      "text/plain": [
       "{2, 3, 7, 8}"
      ]
     },
     "execution_count": 31,
     "metadata": {},
     "output_type": "execute_result"
    }
   ],
   "source": [
    "set(s3)"
   ]
  },
  {
   "cell_type": "code",
   "execution_count": 32,
   "id": "fe2c76ad-a203-4d95-adc1-202985cfe5cd",
   "metadata": {},
   "outputs": [],
   "source": [
    "s4={88,88,88,99,66,55,66,55,99}"
   ]
  },
  {
   "cell_type": "code",
   "execution_count": 33,
   "id": "feb505f8-27c0-4025-b00f-303f92a0080d",
   "metadata": {},
   "outputs": [
    {
     "data": {
      "text/plain": [
       "{55, 66, 88, 99}"
      ]
     },
     "execution_count": 33,
     "metadata": {},
     "output_type": "execute_result"
    }
   ],
   "source": [
    "s4"
   ]
  },
  {
   "cell_type": "code",
   "execution_count": 34,
   "id": "c4a96628-1e5a-4061-a0ed-35c419e2695e",
   "metadata": {},
   "outputs": [
    {
     "ename": "TypeError",
     "evalue": "'set' object is not subscriptable",
     "output_type": "error",
     "traceback": [
      "\u001b[0;31m---------------------------------------------------------------------------\u001b[0m",
      "\u001b[0;31mTypeError\u001b[0m                                 Traceback (most recent call last)",
      "Cell \u001b[0;32mIn[34], line 1\u001b[0m\n\u001b[0;32m----> 1\u001b[0m \u001b[43ms4\u001b[49m\u001b[43m[\u001b[49m\u001b[38;5;241;43m0\u001b[39;49m\u001b[43m]\u001b[49m\n",
      "\u001b[0;31mTypeError\u001b[0m: 'set' object is not subscriptable"
     ]
    }
   ],
   "source": [
    "s4[0]"
   ]
  },
  {
   "cell_type": "code",
   "execution_count": 35,
   "id": "6a778f8b-b35d-42f5-9a6b-4f1d29b3e962",
   "metadata": {},
   "outputs": [
    {
     "ename": "TypeError",
     "evalue": "'set' object is not subscriptable",
     "output_type": "error",
     "traceback": [
      "\u001b[0;31m---------------------------------------------------------------------------\u001b[0m",
      "\u001b[0;31mTypeError\u001b[0m                                 Traceback (most recent call last)",
      "Cell \u001b[0;32mIn[35], line 1\u001b[0m\n\u001b[0;32m----> 1\u001b[0m \u001b[43ms4\u001b[49m\u001b[43m[\u001b[49m\u001b[43m:\u001b[49m\u001b[43m:\u001b[49m\u001b[38;5;241;43m-\u001b[39;49m\u001b[38;5;241;43m1\u001b[39;49m\u001b[43m]\u001b[49m\n",
      "\u001b[0;31mTypeError\u001b[0m: 'set' object is not subscriptable"
     ]
    }
   ],
   "source": [
    "s4[::-1]"
   ]
  },
  {
   "cell_type": "code",
   "execution_count": 36,
   "id": "f5eaaa39-c490-4850-a512-32e83e1891a9",
   "metadata": {},
   "outputs": [],
   "source": [
    "s4.add(0)"
   ]
  },
  {
   "cell_type": "code",
   "execution_count": 37,
   "id": "19b65198-7a44-451c-a74c-d107c37843cd",
   "metadata": {},
   "outputs": [
    {
     "data": {
      "text/plain": [
       "{0, 55, 66, 88, 99}"
      ]
     },
     "execution_count": 37,
     "metadata": {},
     "output_type": "execute_result"
    }
   ],
   "source": [
    "s4"
   ]
  },
  {
   "cell_type": "code",
   "execution_count": 38,
   "id": "dc6152ce-21fe-45bf-b6aa-04d528108c3e",
   "metadata": {},
   "outputs": [],
   "source": [
    "s4.remove(55)"
   ]
  },
  {
   "cell_type": "code",
   "execution_count": 39,
   "id": "3859b62a-fc1c-48e4-b413-dc1ad2a5f89c",
   "metadata": {},
   "outputs": [
    {
     "data": {
      "text/plain": [
       "{0, 66, 88, 99}"
      ]
     },
     "execution_count": 39,
     "metadata": {},
     "output_type": "execute_result"
    }
   ],
   "source": [
    "s4"
   ]
  },
  {
   "cell_type": "code",
   "execution_count": 1,
   "id": "e77acc62-cb97-457e-aa47-688166f4a19e",
   "metadata": {},
   "outputs": [],
   "source": [
    "#DICTIONERY"
   ]
  },
  {
   "cell_type": "code",
   "execution_count": 2,
   "id": "b748d1ae-fb70-4c39-bd70-22350836d0d1",
   "metadata": {},
   "outputs": [],
   "source": [
    "d={}"
   ]
  },
  {
   "cell_type": "code",
   "execution_count": 3,
   "id": "08ea207f-e537-4872-b4d6-71cb5edb5ab3",
   "metadata": {},
   "outputs": [
    {
     "data": {
      "text/plain": [
       "dict"
      ]
     },
     "execution_count": 3,
     "metadata": {},
     "output_type": "execute_result"
    }
   ],
   "source": [
    "type(d)"
   ]
  },
  {
   "cell_type": "code",
   "execution_count": 4,
   "id": "6f09c7f7-41ef-4fbc-b091-0570fb7b4bc4",
   "metadata": {},
   "outputs": [],
   "source": [
    "d1={'key':\"sarah\"}"
   ]
  },
  {
   "cell_type": "code",
   "execution_count": 5,
   "id": "22976db9-a5c3-46a5-9cab-34aab434f83a",
   "metadata": {},
   "outputs": [
    {
     "data": {
      "text/plain": [
       "{'key': 'sarah'}"
      ]
     },
     "execution_count": 5,
     "metadata": {},
     "output_type": "execute_result"
    }
   ],
   "source": [
    "d1"
   ]
  },
  {
   "cell_type": "code",
   "execution_count": 6,
   "id": "7883d4f4-11bf-4bae-8c58-27d9e92e80b4",
   "metadata": {},
   "outputs": [],
   "source": [
    "d2={\"name\":\"sarah\",\"email\":\"sarah@gmail\"}"
   ]
  },
  {
   "cell_type": "code",
   "execution_count": 7,
   "id": "ed88189c-003e-449c-9c43-3c03d5c2038c",
   "metadata": {},
   "outputs": [
    {
     "data": {
      "text/plain": [
       "{'name': 'sarah', 'email': 'sarah@gmail'}"
      ]
     },
     "execution_count": 7,
     "metadata": {},
     "output_type": "execute_result"
    }
   ],
   "source": [
    "d2"
   ]
  },
  {
   "cell_type": "code",
   "execution_count": 1,
   "id": "96b38514-3b60-4057-9071-d225869abf0a",
   "metadata": {},
   "outputs": [],
   "source": [
    "d3={233:\"sarah\"}"
   ]
  },
  {
   "cell_type": "code",
   "execution_count": 2,
   "id": "f7ea502a-7af3-4deb-97b0-1c5c859d4214",
   "metadata": {},
   "outputs": [
    {
     "data": {
      "text/plain": [
       "'sarah'"
      ]
     },
     "execution_count": 2,
     "metadata": {},
     "output_type": "execute_result"
    }
   ],
   "source": [
    "d3[233]"
   ]
  },
  {
   "cell_type": "code",
   "execution_count": 5,
   "id": "cb56bb4c-eabd-4410-87fc-0f50b601795d",
   "metadata": {},
   "outputs": [],
   "source": [
    "d3={233:\"sarah\",233:\"saaaa\"}"
   ]
  },
  {
   "cell_type": "code",
   "execution_count": 6,
   "id": "86a95126-f06b-4a55-91cf-a3f0454eb862",
   "metadata": {},
   "outputs": [
    {
     "data": {
      "text/plain": [
       "'saaaa'"
      ]
     },
     "execution_count": 6,
     "metadata": {},
     "output_type": "execute_result"
    }
   ],
   "source": [
    "d3[233]"
   ]
  },
  {
   "cell_type": "code",
   "execution_count": 10,
   "id": "8884bbad-087d-4c56-87bd-5026bd1b05c6",
   "metadata": {},
   "outputs": [],
   "source": [
    "d4={\"number\":[3,44,55,67], \"assignment\":[1,2,3,4,5,6], \"launch_date\":{28,12,23},\"class_time\":{\"web_dev\":8,\"data science masters\":8,\"java\":7}}"
   ]
  },
  {
   "cell_type": "code",
   "execution_count": 11,
   "id": "f430237d-5453-4c1b-a5c9-a15d93e2bee8",
   "metadata": {},
   "outputs": [
    {
     "data": {
      "text/plain": [
       "{'number': [3, 44, 55, 67],\n",
       " 'assignment': [1, 2, 3, 4, 5, 6],\n",
       " 'launch_date': {12, 23, 28},\n",
       " 'class_time': {'web_dev': 8, 'data science masters': 8, 'java': 7}}"
      ]
     },
     "execution_count": 11,
     "metadata": {},
     "output_type": "execute_result"
    }
   ],
   "source": [
    "d4"
   ]
  },
  {
   "cell_type": "code",
   "execution_count": 15,
   "id": "3b463a5b-ad80-43b6-b925-913283a8afb7",
   "metadata": {},
   "outputs": [
    {
     "data": {
      "text/plain": [
       "7"
      ]
     },
     "execution_count": 15,
     "metadata": {},
     "output_type": "execute_result"
    }
   ],
   "source": [
    "d4[\"class_time\"][\"java\"]"
   ]
  },
  {
   "cell_type": "code",
   "execution_count": 17,
   "id": "5e1e7048-8ab7-4711-afdb-8e6d691f6eb5",
   "metadata": {},
   "outputs": [],
   "source": [
    "d4[\"sarah\"]=[\"peep\"]"
   ]
  },
  {
   "cell_type": "code",
   "execution_count": 18,
   "id": "866609f3-2960-4a9c-abb7-7cab07a42796",
   "metadata": {},
   "outputs": [
    {
     "data": {
      "text/plain": [
       "{'number': [3, 44, 55, 67],\n",
       " 'assignment': [1, 2, 3, 4, 5, 6],\n",
       " 'launch_date': {12, 23, 28},\n",
       " 'class_time': {'web_dev': 8, 'data science masters': 8, 'java': 7},\n",
       " 'sarah': ['peep']}"
      ]
     },
     "execution_count": 18,
     "metadata": {},
     "output_type": "execute_result"
    }
   ],
   "source": [
    "d4"
   ]
  },
  {
   "cell_type": "code",
   "execution_count": 19,
   "id": "974fe38a-8a5c-45a6-9185-9a4f8f87d107",
   "metadata": {},
   "outputs": [],
   "source": [
    "del d4[\"sarah\"]"
   ]
  },
  {
   "cell_type": "code",
   "execution_count": 20,
   "id": "d80ace09-64b7-4b0a-b3bd-3f666cab2cac",
   "metadata": {},
   "outputs": [
    {
     "data": {
      "text/plain": [
       "{'number': [3, 44, 55, 67],\n",
       " 'assignment': [1, 2, 3, 4, 5, 6],\n",
       " 'launch_date': {12, 23, 28},\n",
       " 'class_time': {'web_dev': 8, 'data science masters': 8, 'java': 7}}"
      ]
     },
     "execution_count": 20,
     "metadata": {},
     "output_type": "execute_result"
    }
   ],
   "source": [
    "d4"
   ]
  },
  {
   "cell_type": "code",
   "execution_count": 22,
   "id": "8867b9dc-324c-44e0-91b6-d3d171615e5f",
   "metadata": {},
   "outputs": [
    {
     "data": {
      "text/plain": [
       "['number', 'assignment', 'launch_date', 'class_time']"
      ]
     },
     "execution_count": 22,
     "metadata": {},
     "output_type": "execute_result"
    }
   ],
   "source": [
    "list(d4.keys())"
   ]
  },
  {
   "cell_type": "code",
   "execution_count": 23,
   "id": "59d01fd0-2e7b-4840-bc33-94d56fd78a47",
   "metadata": {},
   "outputs": [
    {
     "data": {
      "text/plain": [
       "[[3, 44, 55, 67],\n",
       " [1, 2, 3, 4, 5, 6],\n",
       " {12, 23, 28},\n",
       " {'web_dev': 8, 'data science masters': 8, 'java': 7}]"
      ]
     },
     "execution_count": 23,
     "metadata": {},
     "output_type": "execute_result"
    }
   ],
   "source": [
    "list(d4.values())"
   ]
  },
  {
   "cell_type": "code",
   "execution_count": 24,
   "id": "8ba3d022-9132-4a22-9f20-7e84b14c996a",
   "metadata": {},
   "outputs": [
    {
     "data": {
      "text/plain": [
       "dict_items([('number', [3, 44, 55, 67]), ('assignment', [1, 2, 3, 4, 5, 6]), ('launch_date', {28, 12, 23}), ('class_time', {'web_dev': 8, 'data science masters': 8, 'java': 7})])"
      ]
     },
     "execution_count": 24,
     "metadata": {},
     "output_type": "execute_result"
    }
   ],
   "source": [
    "d4.items()"
   ]
  },
  {
   "cell_type": "code",
   "execution_count": 25,
   "id": "c9498890-120b-40c5-940b-2e8b30e0cdb8",
   "metadata": {},
   "outputs": [
    {
     "data": {
      "text/plain": [
       "[('number', [3, 44, 55, 67]),\n",
       " ('assignment', [1, 2, 3, 4, 5, 6]),\n",
       " ('launch_date', {12, 23, 28}),\n",
       " ('class_time', {'web_dev': 8, 'data science masters': 8, 'java': 7})]"
      ]
     },
     "execution_count": 25,
     "metadata": {},
     "output_type": "execute_result"
    }
   ],
   "source": [
    "list(d4.items())"
   ]
  },
  {
   "cell_type": "code",
   "execution_count": 27,
   "id": "b52d564b-f2e7-4a96-8400-43d5b1a0364a",
   "metadata": {},
   "outputs": [
    {
     "data": {
      "text/plain": [
       "[3, 44, 55, 67]"
      ]
     },
     "execution_count": 27,
     "metadata": {},
     "output_type": "execute_result"
    }
   ],
   "source": [
    "d4.pop(\"number\")"
   ]
  },
  {
   "cell_type": "code",
   "execution_count": 34,
   "id": "71ac413b-fdd5-4849-87fe-c72852822dc4",
   "metadata": {},
   "outputs": [
    {
     "data": {
      "text/plain": [
       "{'assignment': [1, 2, 3, 4, 5, 6],\n",
       " 'launch_date': {12, 23, 28},\n",
       " 'class_time': {'web_dev': 8, 'data science masters': 8, 'java': 7}}"
      ]
     },
     "execution_count": 34,
     "metadata": {},
     "output_type": "execute_result"
    }
   ],
   "source": [
    "d4"
   ]
  },
  {
   "cell_type": "code",
   "execution_count": null,
   "id": "f9c2830c-db4a-47fa-8fc5-9e3111e7dfef",
   "metadata": {},
   "outputs": [],
   "source": [
    "#control flow"
   ]
  },
  {
   "cell_type": "code",
   "execution_count": 45,
   "id": "16456376-0b8f-4e49-8413-596a4265fca8",
   "metadata": {},
   "outputs": [
    {
     "name": "stdin",
     "output_type": "stream",
     "text": [
      "enter your marks 45\n"
     ]
    }
   ],
   "source": [
    "marks=int( input(\"enter your marks\"))"
   ]
  },
  {
   "cell_type": "code",
   "execution_count": 46,
   "id": "1bd351ab-c00a-4f19-b657-242b02a0cf82",
   "metadata": {},
   "outputs": [
    {
     "name": "stdout",
     "output_type": "stream",
     "text": [
      " you will be a part of A2 batch\n"
     ]
    }
   ],
   "source": [
    "if marks >= 80 :\n",
    "    print(\" you will be a part of A0 batch\")\n",
    "elif marks >= 60 and marks < 80 :\n",
    "    print(\"you will be a part of A1 batch\")\n",
    "elif marks >= 40  and marks <60 :\n",
    "    print(\" you will be a part of A2 batch\")\n",
    "else:\n",
    "    print(\"you will be a part of A3 batch\")"
   ]
  },
  {
   "cell_type": "code",
   "execution_count": 47,
   "id": "8448955d-a55e-460e-a1fb-ca76581662ed",
   "metadata": {},
   "outputs": [
    {
     "data": {
      "text/plain": [
       "int"
      ]
     },
     "execution_count": 47,
     "metadata": {},
     "output_type": "execute_result"
    }
   ],
   "source": [
    "type(marks)"
   ]
  },
  {
   "cell_type": "code",
   "execution_count": 52,
   "id": "fd2b6ad0-89b0-43c3-97b4-a1c661f96e94",
   "metadata": {},
   "outputs": [
    {
     "name": "stdin",
     "output_type": "stream",
     "text": [
      "enter price 400\n"
     ]
    },
    {
     "name": "stdout",
     "output_type": "stream",
     "text": [
      "not interested\n"
     ]
    }
   ],
   "source": [
    "price = int(input(\"enter price\"))\n",
    "if price> 1000:\n",
    "    print(\"i will not purchase\")  \n",
    "    if price> 5000:\n",
    "        print(\" this is too much\")\n",
    "    elif price < 1000:    \n",
    "            print(\" i will purchase:\")\n",
    "else:\n",
    "    print(\"not interested\")"
   ]
  },
  {
   "cell_type": "code",
   "execution_count": 4,
   "id": "299d5a10-cb74-425d-89bd-7e7ed3da61bf",
   "metadata": {},
   "outputs": [],
   "source": [
    "l=[1,2,3,4,5,6,7,8]"
   ]
  },
  {
   "cell_type": "code",
   "execution_count": 54,
   "id": "7964c506-1e94-4a41-9c30-5ed098eea885",
   "metadata": {},
   "outputs": [
    {
     "data": {
      "text/plain": [
       "2"
      ]
     },
     "execution_count": 54,
     "metadata": {},
     "output_type": "execute_result"
    }
   ],
   "source": [
    "l[0]+1"
   ]
  },
  {
   "cell_type": "code",
   "execution_count": 55,
   "id": "67389310-4c1c-4950-b81a-e7f6dabd6569",
   "metadata": {},
   "outputs": [],
   "source": [
    "l1=[]"
   ]
  },
  {
   "cell_type": "code",
   "execution_count": 56,
   "id": "57475ee9-a591-4397-8434-d03a5e7bb522",
   "metadata": {},
   "outputs": [],
   "source": [
    "l1.append(l[0]+1)"
   ]
  },
  {
   "cell_type": "code",
   "execution_count": 2,
   "id": "8a91a785-2c86-4bbe-abb5-8015fdb490fa",
   "metadata": {},
   "outputs": [
    {
     "data": {
      "text/plain": [
       "[]"
      ]
     },
     "execution_count": 2,
     "metadata": {},
     "output_type": "execute_result"
    }
   ],
   "source": [
    "l1"
   ]
  },
  {
   "cell_type": "code",
   "execution_count": 5,
   "id": "08e07c06-76ba-4887-a244-cbd7971aad9a",
   "metadata": {},
   "outputs": [
    {
     "name": "stdout",
     "output_type": "stream",
     "text": [
      "1\n",
      "2\n",
      "3\n",
      "4\n",
      "5\n",
      "6\n",
      "7\n",
      "8\n"
     ]
    },
    {
     "data": {
      "text/plain": [
       "[2, 3, 4, 5, 6, 7, 8, 9]"
      ]
     },
     "execution_count": 5,
     "metadata": {},
     "output_type": "execute_result"
    }
   ],
   "source": [
    "l1=[]\n",
    "for i in l :\n",
    "    print(i)\n",
    "    l1.append(i+1)\n",
    "l1    "
   ]
  },
  {
   "cell_type": "code",
   "execution_count": 19,
   "id": "d53516d0-79ec-45ca-acf8-afaa55dcf623",
   "metadata": {},
   "outputs": [],
   "source": [
    "l=[ \"sarah\", \"sheikh\"]"
   ]
  },
  {
   "cell_type": "code",
   "execution_count": 22,
   "id": "652fa779-2d03-4b36-9049-9709af91d13a",
   "metadata": {},
   "outputs": [
    {
     "name": "stdout",
     "output_type": "stream",
     "text": [
      "sarah\n",
      "sheikh\n"
     ]
    }
   ],
   "source": [
    "l1=[]\n",
    "for i in l:\n",
    "    print(i)\n",
    "    l1.append(i.upper()) "
   ]
  },
  {
   "cell_type": "code",
   "execution_count": 23,
   "id": "c51cbafe-6bf2-4587-b8ce-a15286693c75",
   "metadata": {},
   "outputs": [
    {
     "data": {
      "text/plain": [
       "['SARAH', 'SHEIKH']"
      ]
     },
     "execution_count": 23,
     "metadata": {},
     "output_type": "execute_result"
    }
   ],
   "source": [
    "l1"
   ]
  },
  {
   "cell_type": "code",
   "execution_count": 1,
   "id": "2e637e05-9b77-4575-8cb1-6c0999c30b73",
   "metadata": {},
   "outputs": [],
   "source": [
    "l=[1,2,3,4,4,\"sudh\", \"kumar\", 124,12,456,\"abc\"]"
   ]
  },
  {
   "cell_type": "code",
   "execution_count": 3,
   "id": "880e1a13-84b2-4491-85ab-2b71f0c7c42f",
   "metadata": {},
   "outputs": [],
   "source": [
    "l1_num=[]\n",
    "l2_str=[]\n",
    "for i in l :\n",
    "    if type(i)==int or type(i)== float:\n",
    "        l1_num.append(i)\n",
    "    else:\n",
    "        l2_str.append(i)\n"
   ]
  },
  {
   "cell_type": "code",
   "execution_count": 4,
   "id": "f4dadea1-b560-40e2-b602-3a9699b6e1ac",
   "metadata": {},
   "outputs": [
    {
     "data": {
      "text/plain": [
       "[1, 2, 3, 4, 4, 124, 12, 456]"
      ]
     },
     "execution_count": 4,
     "metadata": {},
     "output_type": "execute_result"
    }
   ],
   "source": [
    "l1_num"
   ]
  },
  {
   "cell_type": "code",
   "execution_count": 5,
   "id": "5a7df349-8edc-4802-9fa5-34a0c5d1e410",
   "metadata": {},
   "outputs": [
    {
     "data": {
      "text/plain": [
       "['sudh', 'kumar', 'abc']"
      ]
     },
     "execution_count": 5,
     "metadata": {},
     "output_type": "execute_result"
    }
   ],
   "source": [
    "l2_str"
   ]
  },
  {
   "cell_type": "code",
   "execution_count": null,
   "id": "a5a7147a-dc25-4c77-8086-7f2c49146ca8",
   "metadata": {},
   "outputs": [],
   "source": []
  }
 ],
 "metadata": {
  "kernelspec": {
   "display_name": "Python 3 (ipykernel)",
   "language": "python",
   "name": "python3"
  },
  "language_info": {
   "codemirror_mode": {
    "name": "ipython",
    "version": 3
   },
   "file_extension": ".py",
   "mimetype": "text/x-python",
   "name": "python",
   "nbconvert_exporter": "python",
   "pygments_lexer": "ipython3",
   "version": "3.10.8"
  }
 },
 "nbformat": 4,
 "nbformat_minor": 5
}
